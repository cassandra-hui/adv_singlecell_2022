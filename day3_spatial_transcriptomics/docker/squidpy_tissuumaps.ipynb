{
 "cells": [
  {
   "cell_type": "code",
   "execution_count": 1,
   "id": "5becfb71",
   "metadata": {},
   "outputs": [
    {
     "name": "stderr",
     "output_type": "stream",
     "text": [
      "INFO:root: * TissUUmaps version: 3.0.8.4\n"
     ]
    }
   ],
   "source": [
    "import squidpy as sq\n",
    "\n",
    "from spatial_analysis_toolkit.view import tissuumaps_notebook_viewer"
   ]
  },
  {
   "cell_type": "code",
   "execution_count": 2,
   "id": "945fc57c",
   "metadata": {},
   "outputs": [
    {
     "data": {
      "application/vnd.jupyter.widget-view+json": {
       "model_id": "e113d65792c94a23897734f806d2fd7b",
       "version_major": 2,
       "version_minor": 0
      },
      "text/plain": [
       "  0%|          | 0.00/303M [00:00<?, ?B/s]"
      ]
     },
     "metadata": {},
     "output_type": "display_data"
    },
    {
     "data": {
      "application/vnd.jupyter.widget-view+json": {
       "model_id": "8695ab820bf145e8a5c3dfb9cc2d7544",
       "version_major": 2,
       "version_minor": 0
      },
      "text/plain": [
       "  0%|          | 0.00/65.5M [00:00<?, ?B/s]"
      ]
     },
     "metadata": {},
     "output_type": "display_data"
    }
   ],
   "source": [
    "# load the pre-processed dataset\n",
    "img = sq.datasets.visium_fluo_image_crop()\n",
    "adata = sq.datasets.visium_fluo_adata_crop()"
   ]
  },
  {
   "cell_type": "code",
   "execution_count": 3,
   "id": "209168ad",
   "metadata": {},
   "outputs": [
    {
     "name": "stderr",
     "output_type": "stream",
     "text": [
      "INFO:pyvips:VIPS: residual reducev by 0.5\n",
      "INFO:pyvips:VIPS: reducev: 13 point mask\n",
      "INFO:pyvips:VIPS: reducev: using vector path\n",
      "INFO:pyvips:VIPS: residual reduceh by 0.5\n",
      "INFO:pyvips:VIPS: reduceh: 13 point mask\n"
     ]
    },
    {
     "name": "stdout",
     "output_type": "stream",
     "text": [
      "Creating project file /home/jovyan/work/_project.tmap\n",
      "Loading url:  http://localhost:5101/_project.tmap?path=home/jovyan/work\n"
     ]
    },
    {
     "data": {
      "text/html": [
       "<iframe src=\"http://localhost:5101/_project.tmap?path=home/jovyan/work\" style=\"width: 100%; height: 700px; border: none\" id=\"tissUUmapsViewer_499b7058b7\" allowfullscreen></iframe>"
      ],
      "text/plain": [
       "<IPython.core.display.HTML object>"
      ]
     },
     "metadata": {},
     "output_type": "display_data"
    }
   ],
   "source": [
    "tissuumaps_notebook_viewer(adata=adata, image_container=img, image_path=\"test3.tif\")"
   ]
  },
  {
   "cell_type": "code",
   "execution_count": null,
   "id": "e54c36fc-740c-48dc-b7ad-4b416734a5a1",
   "metadata": {},
   "outputs": [],
   "source": []
  }
 ],
 "metadata": {
  "kernelspec": {
   "display_name": "Python 3 (ipykernel)",
   "language": "python",
   "name": "python3"
  },
  "language_info": {
   "codemirror_mode": {
    "name": "ipython",
    "version": 3
   },
   "file_extension": ".py",
   "mimetype": "text/x-python",
   "name": "python",
   "nbconvert_exporter": "python",
   "pygments_lexer": "ipython3",
   "version": "3.9.10"
  }
 },
 "nbformat": 4,
 "nbformat_minor": 5
}
